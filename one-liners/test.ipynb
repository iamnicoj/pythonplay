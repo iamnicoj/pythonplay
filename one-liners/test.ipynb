{
 "cells": [
  {
   "cell_type": "code",
   "execution_count": 4,
   "metadata": {},
   "outputs": [
    {
     "ename": "ModuleNotFoundError",
     "evalue": "No module named 'matplotlib'",
     "output_type": "error",
     "traceback": [
      "\u001b[0;31m---------------------------------------------------------------------------\u001b[0m",
      "\u001b[0;31mModuleNotFoundError\u001b[0m                       Traceback (most recent call last)",
      "\u001b[1;32m/Users/nicoj/myrepos/pythonplay/one-liners/test.ipynb Cell 1'\u001b[0m in \u001b[0;36m<cell line: 1>\u001b[0;34m()\u001b[0m\n\u001b[0;32m----> <a href='vscode-notebook-cell:/Users/nicoj/myrepos/pythonplay/one-liners/test.ipynb#ch0000000?line=0'>1</a>\u001b[0m \u001b[39mimport\u001b[39;00m \u001b[39mmatplotlib\u001b[39;00m\u001b[39m.\u001b[39;00m\u001b[39mpyplot\u001b[39;00m \u001b[39mas\u001b[39;00m \u001b[39mplt\u001b[39;00m\n",
      "\u001b[0;31mModuleNotFoundError\u001b[0m: No module named 'matplotlib'"
     ]
    }
   ],
   "source": [
    "import matplotlib.pyplot as plt"
   ]
  },
  {
   "cell_type": "code",
   "execution_count": 3,
   "metadata": {},
   "outputs": [
    {
     "ename": "NameError",
     "evalue": "name 'plt' is not defined",
     "output_type": "error",
     "traceback": [
      "\u001b[0;31m---------------------------------------------------------------------------\u001b[0m",
      "\u001b[0;31mNameError\u001b[0m                                 Traceback (most recent call last)",
      "\u001b[1;32m/Users/nicoj/myrepos/pythonplay/one-liners/test.ipynb Cell 2'\u001b[0m in \u001b[0;36m<cell line: 5>\u001b[0;34m()\u001b[0m\n\u001b[1;32m      <a href='vscode-notebook-cell:/Users/nicoj/myrepos/pythonplay/one-liners/test.ipynb#ch0000001?line=0'>1</a>\u001b[0m cardiac_cycle \u001b[39m=\u001b[39m [\u001b[39m62\u001b[39m, \u001b[39m60\u001b[39m, \u001b[39m62\u001b[39m, \u001b[39m64\u001b[39m, \u001b[39m68\u001b[39m, \u001b[39m77\u001b[39m, \u001b[39m80\u001b[39m, \u001b[39m76\u001b[39m, \u001b[39m71\u001b[39m, \u001b[39m66\u001b[39m, \u001b[39m81\u001b[39m, \u001b[39m60\u001b[39m, \u001b[39m62\u001b[39m]\n\u001b[1;32m      <a href='vscode-notebook-cell:/Users/nicoj/myrepos/pythonplay/one-liners/test.ipynb#ch0000001?line=2'>3</a>\u001b[0m expected_cycle \u001b[39m=\u001b[39m cardiac_cycle[\u001b[39m1\u001b[39m: \u001b[39m-\u001b[39m\u001b[39m2\u001b[39m] \u001b[39m*\u001b[39m \u001b[39m10\u001b[39m\n\u001b[0;32m----> <a href='vscode-notebook-cell:/Users/nicoj/myrepos/pythonplay/one-liners/test.ipynb#ch0000001?line=4'>5</a>\u001b[0m plt\u001b[39m.\u001b[39mplot(expected_cycle)\n\u001b[1;32m      <a href='vscode-notebook-cell:/Users/nicoj/myrepos/pythonplay/one-liners/test.ipynb#ch0000001?line=5'>6</a>\u001b[0m plt\u001b[39m.\u001b[39mshow()\n",
      "\u001b[0;31mNameError\u001b[0m: name 'plt' is not defined"
     ]
    }
   ],
   "source": [
    "\n",
    "cardiac_cycle = [62, 60, 62, 64, 68, 77, 80, 76, 71, 66, 81, 60, 62]\n",
    "\n",
    "expected_cycle = cardiac_cycle[1: -2] * 10\n",
    "\n",
    "plt.plot(expected_cycle)\n",
    "plt.show()"
   ]
  },
  {
   "cell_type": "code",
   "execution_count": null,
   "metadata": {},
   "outputs": [],
   "source": []
  }
 ],
 "metadata": {
  "interpreter": {
   "hash": "d4d1e4263499bec80672ea0156c357c1ee493ec2b1c70f0acce89fc37c4a6abe"
  },
  "kernelspec": {
   "display_name": "Python 3.9.7 ('base')",
   "language": "python",
   "name": "python3"
  },
  "language_info": {
   "codemirror_mode": {
    "name": "ipython",
    "version": 3
   },
   "file_extension": ".py",
   "mimetype": "text/x-python",
   "name": "python",
   "nbconvert_exporter": "python",
   "pygments_lexer": "ipython3",
   "version": "3.8.9"
  },
  "orig_nbformat": 4
 },
 "nbformat": 4,
 "nbformat_minor": 2
}
